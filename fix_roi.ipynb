{
 "cells": [
  {
   "cell_type": "markdown",
   "metadata": {},
   "source": [
    "IMPORT PACKAGE"
   ]
  },
  {
   "cell_type": "code",
   "execution_count": 1,
   "metadata": {},
   "outputs": [],
   "source": [
    "import os\n",
    "import cv2\n",
    "import numpy as np\n",
    "import matplotlib.pyplot as plt\n",
    "from skimage import io, color\n",
    "from skimage.feature import graycomatrix, graycoprops\n",
    "from sklearn import svm"
   ]
  },
  {
   "cell_type": "markdown",
   "metadata": {},
   "source": [
    "IMPORT DATASET"
   ]
  },
  {
   "cell_type": "code",
   "execution_count": 2,
   "metadata": {},
   "outputs": [],
   "source": [
    "ng_folder = r\"D:\\Proposal Skripsi gas 2024\\skripsi\\bahan_penelitian\\ng\"\n",
    "ok_folder = r\"D:\\Proposal Skripsi gas 2024\\skripsi\\bahan_penelitian\\ok\"\n",
    "ng_list = os.listdir(ng_folder)\n",
    "ok_list = os.listdir(ok_folder)"
   ]
  },
  {
   "cell_type": "code",
   "execution_count": 3,
   "metadata": {},
   "outputs": [
    {
     "name": "stdout",
     "output_type": "stream",
     "text": [
      "File pertama NG: NG-1-20241007-112615-933.BMP\n",
      "File pertama OK: OK-1-20241010-112359-043.BMP\n"
     ]
    }
   ],
   "source": [
    "# ng_first = ng_list[0]\n",
    "# ok_first = ok_list[0]\n",
    "# print(\"File pertama NG:\", ng_first)\n",
    "# print(\"File pertama OK:\", ok_first)"
   ]
  },
  {
   "cell_type": "markdown",
   "metadata": {},
   "source": [
    "ROI NG : (576, 446, 95, 174)"
   ]
  },
  {
   "cell_type": "code",
   "execution_count": 16,
   "metadata": {},
   "outputs": [
    {
     "name": "stdout",
     "output_type": "stream",
     "text": [
      "[[[  0   0 255]\n",
      "  [  0   0 255]\n",
      "  [  0   0 255]\n",
      "  ...\n",
      "  [  0   0 255]\n",
      "  [  0   0 255]\n",
      "  [  0   0 255]]\n",
      "\n",
      " [[  0   0 255]\n",
      "  [  0   0 255]\n",
      "  [  0   0 255]\n",
      "  ...\n",
      "  [  0   0 255]\n",
      "  [  0   0 255]\n",
      "  [  0   0 255]]\n",
      "\n",
      " [[  0   0 255]\n",
      "  [  0   0 255]\n",
      "  [  4  24   2]\n",
      "  ...\n",
      "  [  3  14   2]\n",
      "  [  3  14   2]\n",
      "  [  0   0 255]]\n",
      "\n",
      " ...\n",
      "\n",
      " [[  0   0 255]\n",
      "  [  0   0 255]\n",
      "  [  9  31   2]\n",
      "  ...\n",
      "  [  3  17   2]\n",
      "  [  2  17   2]\n",
      "  [  0   0 255]]\n",
      "\n",
      " [[  0   0 255]\n",
      "  [  0   0 255]\n",
      "  [  6  31   2]\n",
      "  ...\n",
      "  [  3  19   2]\n",
      "  [  2  18   2]\n",
      "  [  0   0 255]]\n",
      "\n",
      " [[  0   0 255]\n",
      "  [  0   0 255]\n",
      "  [  0   0 255]\n",
      "  ...\n",
      "  [  0   0 255]\n",
      "  [  0   0 255]\n",
      "  [  0   0 255]]]\n"
     ]
    }
   ],
   "source": [
    "img_path = r\"D:\\Proposal Skripsi gas 2024\\skripsi\\bahan_penelitian\\ng\\NG-1-20241007-112615-933.BMP\"\n",
    "img = cv2.imread(img_path)\n",
    "x = 576\n",
    "y = 446\n",
    "w = 95\n",
    "h = 174\n",
    "roi_crop = img[y:y+h, x:x+w]\n",
    "\n",
    "roi = (x,y,w,h)\n",
    "\n",
    "cv2.rectangle(img, (x, y), (x+w, y+h), (0, 0, 255), 2)\n",
    "\n",
    "# cv2.imshow('Image with ROI', img)\n",
    "cv2.imshow('Image with ROI', roi_crop) ##salah satu antara roi_crop atau img\n",
    "cv2.waitKey(0)\n",
    "cv2.destroyAllWindows()\n",
    "print(roi_crop)"
   ]
  },
  {
   "cell_type": "markdown",
   "metadata": {},
   "source": [
    "ROI OK : (590, 456, 100, 170)"
   ]
  },
  {
   "cell_type": "code",
   "execution_count": 13,
   "metadata": {},
   "outputs": [],
   "source": [
    "img_path = r\"D:\\Proposal Skripsi gas 2024\\skripsi\\bahan_penelitian\\ok\\OK-15-20241010-112506-735.BMP\"\n",
    "img = cv2.imread(img_path)\n",
    "\n",
    "x = 590\n",
    "y = 456\n",
    "w = 100\n",
    "h = 170\n",
    "roi_crop = img[y:y+h, x:x+w]\n",
    "\n",
    "roi = (x,y,w,h)\n",
    "\n",
    "cv2.rectangle(img, (x, y), (x+w, y+h), (0, 0, 255), 2)\n",
    "\n",
    "# cv2.imshow('Image with ROI', img)\n",
    "cv2.imshow('Image with ROI', roi_crop) ##salah satu antara roi_crop atau img\n",
    "cv2.waitKey(0)\n",
    "cv2.destroyAllWindows()"
   ]
  },
  {
   "cell_type": "code",
   "execution_count": 1,
   "metadata": {},
   "outputs": [
    {
     "name": "stdout",
     "output_type": "stream",
     "text": [
      "Koordinat awal (x1, y1): (574, 445)\n",
      "Koordinat akhir (x2, y2): (689, 637)\n",
      "Lebar ROI: 115\n",
      "Tinggi ROI: 192\n"
     ]
    }
   ],
   "source": [
    "import cv2\n",
    "import os\n",
    "\n",
    "ref_point = []\n",
    "cropping = False\n",
    "\n",
    "def select_roi(event, x, y, flags, param):\n",
    "    global ref_point, cropping\n",
    "\n",
    "    if event == cv2.EVENT_LBUTTONDOWN:\n",
    "        ref_point = [(x, y)]\n",
    "        cropping = True\n",
    "\n",
    "    elif event == cv2.EVENT_LBUTTONUP:\n",
    "        ref_point.append((x, y))\n",
    "        cropping = False\n",
    "        cv2.rectangle(image, ref_point[0], ref_point[1], (0, 255, 0), 2)\n",
    "        cv2.imshow(\"image\", image)\n",
    "\n",
    "image_path = r\"D:\\Proposal Skripsi gas 2024\\skripsi\\bahan_penelitian\\ng\\NG-1-20241007-112615-933.BMP\"\n",
    "\n",
    "if not os.path.exists(image_path):\n",
    "    print(f\"File tidak ditemukan di lokasi: {image_path}\")\n",
    "    exit()\n",
    "\n",
    "image = cv2.imread(image_path)\n",
    "if image is None:\n",
    "    print(\"Gambar tidak ditemukan. Periksa kembali path gambar atau format file.\")\n",
    "    exit()\n",
    "\n",
    "clone = image.copy()\n",
    "\n",
    "cv2.namedWindow(\"image\")\n",
    "cv2.setMouseCallback(\"image\", select_roi)\n",
    "\n",
    "while True:\n",
    "    # Tampilkan gambar\n",
    "    cv2.imshow(\"image\", image)\n",
    "    key = cv2.waitKey(1) & 0xFF\n",
    "\n",
    "    if key == ord(\"r\"):\n",
    "        image = clone.copy()\n",
    "\n",
    "    elif key == ord(\"c\"):\n",
    "        break\n",
    "\n",
    "if len(ref_point) == 2:\n",
    "    x1, y1 = ref_point[0]\n",
    "    x2, y2 = ref_point[1]\n",
    "\n",
    "    if 0 <= x1 < x2 <= clone.shape[1] and 0 <= y1 < y2 <= clone.shape[0]:\n",
    "        roi = clone[y1:y2, x1:x2]\n",
    "        cv2.imshow(\"Cropped Image\", roi)\n",
    "        cv2.imwrite(\"cropped_image.jpg\", roi)\n",
    "        cv2.waitKey(0)\n",
    "    else:\n",
    "        print(\"Koordinat cropping berada di luar batas gambar.\")\n",
    "cv2.destroyAllWindows()\n",
    "\n",
    "if len(ref_point) == 2:\n",
    "    print(f\"Koordinat awal (x1, y1): {ref_point[0]}\")\n",
    "    print(f\"Koordinat akhir (x2, y2): {ref_point[1]}\")\n",
    "\n",
    "    width = x2 - x1\n",
    "    height = y2 - y1\n",
    "    print(f\"Lebar ROI: {width}\")\n",
    "    print(f\"Tinggi ROI: {height}\")\n"
   ]
  }
 ],
 "metadata": {
  "kernelspec": {
   "display_name": "new",
   "language": "python",
   "name": "python3"
  },
  "language_info": {
   "codemirror_mode": {
    "name": "ipython",
    "version": 3
   },
   "file_extension": ".py",
   "mimetype": "text/x-python",
   "name": "python",
   "nbconvert_exporter": "python",
   "pygments_lexer": "ipython3",
   "version": "3.9.18"
  }
 },
 "nbformat": 4,
 "nbformat_minor": 2
}
